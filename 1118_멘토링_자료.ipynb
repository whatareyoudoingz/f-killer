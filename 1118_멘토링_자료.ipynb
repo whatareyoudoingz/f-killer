{
 "cells": [
  {
   "cell_type": "markdown",
   "id": "85a32fed",
   "metadata": {},
   "source": [
    "***코딩테스트에서 자주 사용되는 주요 라이브러리 문법***\n",
    "\n",
    "- 코딩테스트에서 대부분 ***표준 라이브러리***를 사용할 수 있도록 ***허용***한다.\n",
    "    - 표준 라이브러리 링크 : https://docs.python.org/ko/3/library/index.html\n",
    "    \n",
    "- ***내장함수*** : 기본 내장 라이브러리\n",
    "    - input( ) : 입력\n",
    "    - print( ) : 출력\n",
    "    - sum( ) : 모든 원소의 합 반환\n",
    "    - min( ) : 가장 작은 값 반환\n",
    "    - max( ) : 가장 큰 값 반환\n",
    "    - ***eval( )*** : 수학 수식이 문자열 형식으로 들어오면 해당 수식을 계산한 결과 반환 `코드 1`\n",
    "    - sorted( ) : 정렬된 결과 반환\n",
    "        - 파라미터\n",
    "            - reverse : 정렬된 결과 리스트를 뒤집을지 여부 (True(=내림차순), False(=오름차순))\n",
    "            - key : 정렬 기준 \n",
    "        - 유사 함수 : sort( ) `코드 ₩`\n",
    "    \n",
    "- ***itertools*** : ***반복되는 형태의 데이터***를 처리하는 기능을 제공하는 라이브러리 (순열, 조합)\n",
    "    - permutations : r개의 데이터를 뽑아 일렬로 나열하는 모든 경우(***순열***) 계산\n",
    "        - 예 `코드 2`\n",
    "    - combinations : r개의 데이터를 뽑아 순서를 고려하지 않고 나열하는 모든 경우 (***조합***) 계산\n",
    "        - 예 `코드 3`\n",
    "    - product : r개의 데이터를 중복을 허용하여 뽑아 일렬로 나열하는 모든 경우 계산 (***중복순열***)\n",
    "        - 파라미터 ( product객체를 초기화할 때 사용 )\n",
    "            - repeat : product객체를 초기화할 때 뽑고자 하는 데이터 수\n",
    "        - 예 `코드 4`\n",
    "    - combinations_with_replacement : r개의 데이터를 중복을 허용하여 뽑아 순서를 고려하지 않고 나열하는 모든 경우 계산 (***중복조합***)\n",
    "        - 예 `코드 5`\n",
    "- ***bisect*** : ***이진탐색*** 기능을 제공하는 라이브러리\n",
    "    - bisect_left(a,x) : 정렬된 순서를 유지하면서 리스트 a에 리스트 x를 삽입할 가장 왼쪽 인덱스를 찾는 메서드 `코드 6`\n",
    "    - bisect_right(a,x) : 정렬된 순서를 유지하면서 리스트 a에 리스트 x를 삽입할 가장 오른쪽 인덱스를 찾는 메서드 `코드 7`\n",
    "    - 응용\n",
    "        - bisect_right(a,x) - bisect_left(a,x)\n",
    "            - 정렬된 리스트에서 값이 [left_value,right_value]에 속하는 데이터 개수 반환 \n",
    "            - `코드 8`\n",
    "- ***math*** : 필수적인 ***수학***적 기능을 제공하는 라이브러리\n",
    "    - factorial(x) : x! 값 반환 \n",
    "        - 예 `코드 9`\n",
    "    - sqrt(x) : x의 제곱근 반환\n",
    "        - 예 `코드 10`\n",
    "    - gcd(a,b) : a,b의 최대 공약수 반환\n",
    "        - 예 `코드 11`\n",
    "    - pi : 파이(pi)\n",
    "       - 예 `코드 12` \n",
    "    - e : 자연 상수e\n",
    "       - 예 `코드 13`"
   ]
  },
  {
   "cell_type": "code",
   "execution_count": 6,
   "id": "9638ac7c",
   "metadata": {},
   "outputs": [
    {
     "name": "stdout",
     "output_type": "stream",
     "text": [
      "56\n"
     ]
    }
   ],
   "source": [
    "# 코드 1 : (3+5)*7을 계산하는 코드\n",
    "result=eval(\"(3+5)*7\")\n",
    "print(result)"
   ]
  },
  {
   "cell_type": "code",
   "execution_count": 5,
   "id": "698c3389",
   "metadata": {},
   "outputs": [
    {
     "name": "stdout",
     "output_type": "stream",
     "text": [
      "[2, 3, 5, 7, 9]\n",
      "[2, 3, 5, 7, 9]\n"
     ]
    }
   ],
   "source": [
    "# 코드 ₩\n",
    "data=[9,3,5,7,2]\n",
    "data.sort()\n",
    "print(data)\n",
    "\n",
    "data=sorted([9,3,5,7,2])\n",
    "print(data)"
   ]
  },
  {
   "cell_type": "code",
   "execution_count": 1,
   "id": "bfba7ec0",
   "metadata": {},
   "outputs": [
    {
     "name": "stdout",
     "output_type": "stream",
     "text": [
      "[('A', 'B', 'C'), ('A', 'C', 'B'), ('B', 'A', 'C'), ('B', 'C', 'A'), ('C', 'A', 'B'), ('C', 'B', 'A')]\n"
     ]
    }
   ],
   "source": [
    "# 코드 2 : 리스트['A','B','C']에서 3개를 뽑아 나열하는 모든 경우의 수 (r=3)\n",
    "from itertools import permutations\n",
    "\n",
    "data=['A','B','C']\n",
    "result=list(permutations(data,3))\n",
    "print(result)"
   ]
  },
  {
   "cell_type": "code",
   "execution_count": 2,
   "id": "51ae0348",
   "metadata": {},
   "outputs": [
    {
     "name": "stdout",
     "output_type": "stream",
     "text": [
      "[('A', 'B'), ('A', 'C'), ('B', 'C')]\n"
     ]
    }
   ],
   "source": [
    "# 코드 3 : 리스트['A','B','C']에서 2개를 뽑아 순서에 상관없이 나열하는 모든 경우의 수 (r=2)\n",
    "from itertools import combinations\n",
    "\n",
    "data=['A','B','C']\n",
    "result=list(combinations(data,2))\n",
    "print(result)"
   ]
  },
  {
   "cell_type": "code",
   "execution_count": 3,
   "id": "2cc0ad0c",
   "metadata": {},
   "outputs": [
    {
     "name": "stdout",
     "output_type": "stream",
     "text": [
      "[('A', 'A'), ('A', 'B'), ('A', 'C'), ('B', 'A'), ('B', 'B'), ('B', 'C'), ('C', 'A'), ('C', 'B'), ('C', 'C')]\n"
     ]
    }
   ],
   "source": [
    "# 코드 4 : 리스트['A','B','C']에서 중복을 포함하여 2개를 뽑아 나열하는 모든 경우의 수 (r=2)\n",
    "from itertools import product\n",
    "\n",
    "data=['A','B','C']\n",
    "result=list(product(data,repeat=2))\n",
    "print(result)"
   ]
  },
  {
   "cell_type": "code",
   "execution_count": 4,
   "id": "17b9001b",
   "metadata": {},
   "outputs": [
    {
     "name": "stdout",
     "output_type": "stream",
     "text": [
      "[('A', 'A'), ('A', 'B'), ('A', 'C'), ('B', 'B'), ('B', 'C'), ('C', 'C')]\n"
     ]
    }
   ],
   "source": [
    "# 코드 5 : 리스트['A','B','C']에서 중복을 포함하여 2개를 뽑아 순서에 상관없이 나열하는 모든 경우의 수 (r=2)\n",
    "from itertools import combinations_with_replacement\n",
    "\n",
    "data=['A','B','C']\n",
    "result=list(combinations_with_replacement(data,2))\n",
    "print(result)"
   ]
  },
  {
   "cell_type": "code",
   "execution_count": 12,
   "id": "81e28127",
   "metadata": {},
   "outputs": [
    {
     "name": "stdout",
     "output_type": "stream",
     "text": [
      "2\n",
      "4\n"
     ]
    }
   ],
   "source": [
    "# 코드 6,7: 정렬된 리스트 [1,2,4,4,8]에 새로운 데이터 4를 삽입하려고 할때 \n",
    "from bisect import bisect_left, bisect_right\n",
    "\n",
    "a=[1,2,4,4,8]\n",
    "x=4\n",
    "\n",
    "print(bisect_left(a,x))\n",
    "print(bisect_right(a,x))"
   ]
  },
  {
   "cell_type": "code",
   "execution_count": 13,
   "id": "a707eb21",
   "metadata": {},
   "outputs": [
    {
     "name": "stdout",
     "output_type": "stream",
     "text": [
      "2\n",
      "6\n"
     ]
    }
   ],
   "source": [
    "# 코드 8: 정렬된 리스트 [1,2,4,4,8]에서 값이 특정 범위에 속하는 원소의 개수 구하기\n",
    "from bisect import bisect_left, bisect_right\n",
    "\n",
    "# 값이 [left_value,right_value]인 데이터 개수 반환 함수\n",
    "def count_by_range(a,left_value,right_value):\n",
    "    right_index=bisect_right(a,right_value)\n",
    "    left_index=bisect_left(a,left_value)\n",
    "    return right_index - left_index\n",
    "\n",
    "\n",
    "a=[1,2,3,3,3,3,4,4,8,9]\n",
    "print(count_by_range(a,4,4)) # 값이 4인 데이터 개수\n",
    "print(count_by_range(a,-1,3)) # 값이 [-1,3] 범위에 있는 데이터 개수"
   ]
  },
  {
   "cell_type": "code",
   "execution_count": 7,
   "id": "b04d9820",
   "metadata": {},
   "outputs": [
    {
     "name": "stdout",
     "output_type": "stream",
     "text": [
      "120\n"
     ]
    }
   ],
   "source": [
    "# 코드 9: 5!출력\n",
    "import math\n",
    "print(math.factorial(5))"
   ]
  },
  {
   "cell_type": "code",
   "execution_count": 8,
   "id": "1c413bc5",
   "metadata": {},
   "outputs": [
    {
     "name": "stdout",
     "output_type": "stream",
     "text": [
      "2.6457513110645907\n"
     ]
    }
   ],
   "source": [
    "# 코드 10: 7의 제곱근 출력\n",
    "import math\n",
    "print(math.sqrt(7))"
   ]
  },
  {
   "cell_type": "code",
   "execution_count": 9,
   "id": "64571ce4",
   "metadata": {},
   "outputs": [
    {
     "name": "stdout",
     "output_type": "stream",
     "text": [
      "7\n"
     ]
    }
   ],
   "source": [
    "# 코드 11: 21과 14의 최대공약수 반환\n",
    "import math\n",
    "print(math.gcd(21,14))"
   ]
  },
  {
   "cell_type": "code",
   "execution_count": 10,
   "id": "fda26c48",
   "metadata": {},
   "outputs": [
    {
     "name": "stdout",
     "output_type": "stream",
     "text": [
      "3.141592653589793\n"
     ]
    }
   ],
   "source": [
    "# 코드 12: 파이(pi)출력\n",
    "import math\n",
    "print(math.pi)"
   ]
  },
  {
   "cell_type": "code",
   "execution_count": 11,
   "id": "56ec28ba",
   "metadata": {},
   "outputs": [
    {
     "name": "stdout",
     "output_type": "stream",
     "text": [
      "2.718281828459045\n"
     ]
    }
   ],
   "source": [
    "# 코드 13: 자연상수e 출력\n",
    "import math\n",
    "print(math.e)"
   ]
  },
  {
   "cell_type": "code",
   "execution_count": null,
   "id": "7fe663a1",
   "metadata": {},
   "outputs": [],
   "source": []
  }
 ],
 "metadata": {
  "kernelspec": {
   "display_name": "Python 3 (ipykernel)",
   "language": "python",
   "name": "python3"
  },
  "language_info": {
   "codemirror_mode": {
    "name": "ipython",
    "version": 3
   },
   "file_extension": ".py",
   "mimetype": "text/x-python",
   "name": "python",
   "nbconvert_exporter": "python",
   "pygments_lexer": "ipython3",
   "version": "3.9.12"
  },
  "toc": {
   "base_numbering": 1,
   "nav_menu": {},
   "number_sections": true,
   "sideBar": true,
   "skip_h1_title": false,
   "title_cell": "Table of Contents",
   "title_sidebar": "Contents",
   "toc_cell": false,
   "toc_position": {},
   "toc_section_display": true,
   "toc_window_display": false
  }
 },
 "nbformat": 4,
 "nbformat_minor": 5
}
